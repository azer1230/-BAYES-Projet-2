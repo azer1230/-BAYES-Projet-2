{
 "cells": [
  {
   "cell_type": "markdown",
   "metadata": {},
   "source": [
    "# Dugongs - non linear growth curve"
   ]
  },
  {
   "cell_type": "markdown",
   "metadata": {},
   "source": [
    "### Auteurs : \n",
    "---\n",
    "* IDRISSI Karim\n",
    "* KOUTIT Abdellah\n",
    "* MOURDI Elias\n",
    "* SELAMNIA Najib\n",
    "\n",
    "---"
   ]
  },
  {
   "cell_type": "markdown",
   "metadata": {},
   "source": [
    "### Importation des bibliothèques "
   ]
  },
  {
   "cell_type": "code",
   "execution_count": 3,
   "metadata": {
    "tags": []
   },
   "outputs": [],
   "source": [
    "import numpy as np\n",
    "import seaborn as sns\n",
    "import pandas as pd\n",
    "import matplotlib.pyplot as plt\n",
    "from scipy.stats import norm, gamma, truncnorm, uniform\n",
    "import statsmodels.api as sm"
   ]
  },
  {
   "cell_type": "markdown",
   "metadata": {},
   "source": [
    "### Données "
   ]
  },
  {
   "cell_type": "code",
   "execution_count": 1,
   "metadata": {
    "tags": []
   },
   "outputs": [
    {
     "ename": "NameError",
     "evalue": "name 'np' is not defined",
     "output_type": "error",
     "traceback": [
      "\u001b[1;31m---------------------------------------------------------------------------\u001b[0m",
      "\u001b[1;31mNameError\u001b[0m                                 Traceback (most recent call last)",
      "Cell \u001b[1;32mIn[1], line 2\u001b[0m\n\u001b[0;32m      1\u001b[0m \u001b[38;5;66;03m# Copie des données du fichier R\u001b[39;00m\n\u001b[1;32m----> 2\u001b[0m X \u001b[38;5;241m=\u001b[39m \u001b[43mnp\u001b[49m\u001b[38;5;241m.\u001b[39marray([\u001b[38;5;241m1\u001b[39m, \u001b[38;5;241m1.5\u001b[39m, \u001b[38;5;241m1.5\u001b[39m, \u001b[38;5;241m1.5\u001b[39m, \u001b[38;5;241m2.5\u001b[39m, \u001b[38;5;241m4\u001b[39m, \u001b[38;5;241m5\u001b[39m, \u001b[38;5;241m5\u001b[39m, \u001b[38;5;241m7\u001b[39m, \u001b[38;5;241m8\u001b[39m, \u001b[38;5;241m8.5\u001b[39m, \u001b[38;5;241m9\u001b[39m, \u001b[38;5;241m9.5\u001b[39m, \u001b[38;5;241m9.5\u001b[39m, \u001b[38;5;241m10\u001b[39m,\n\u001b[0;32m      3\u001b[0m               \u001b[38;5;241m12\u001b[39m, \u001b[38;5;241m12\u001b[39m, \u001b[38;5;241m13\u001b[39m, \u001b[38;5;241m13\u001b[39m, \u001b[38;5;241m14.5\u001b[39m, \u001b[38;5;241m15.5\u001b[39m, \u001b[38;5;241m15.5\u001b[39m, \u001b[38;5;241m16.5\u001b[39m, \u001b[38;5;241m17\u001b[39m, \u001b[38;5;241m22.5\u001b[39m, \u001b[38;5;241m29\u001b[39m, \u001b[38;5;241m31.5\u001b[39m])\n\u001b[0;32m      5\u001b[0m Y \u001b[38;5;241m=\u001b[39m np\u001b[38;5;241m.\u001b[39marray([\u001b[38;5;241m1.8\u001b[39m, \u001b[38;5;241m1.85\u001b[39m, \u001b[38;5;241m1.87\u001b[39m, \u001b[38;5;241m1.77\u001b[39m, \u001b[38;5;241m2.02\u001b[39m, \u001b[38;5;241m2.27\u001b[39m, \u001b[38;5;241m2.15\u001b[39m, \u001b[38;5;241m2.26\u001b[39m, \u001b[38;5;241m2.47\u001b[39m, \u001b[38;5;241m2.19\u001b[39m,\n\u001b[0;32m      6\u001b[0m               \u001b[38;5;241m2.26\u001b[39m, \u001b[38;5;241m2.4\u001b[39m, \u001b[38;5;241m2.39\u001b[39m, \u001b[38;5;241m2.41\u001b[39m, \u001b[38;5;241m2.5\u001b[39m, \u001b[38;5;241m2.32\u001b[39m, \u001b[38;5;241m2.32\u001b[39m, \u001b[38;5;241m2.43\u001b[39m, \u001b[38;5;241m2.47\u001b[39m, \u001b[38;5;241m2.56\u001b[39m, \u001b[38;5;241m2.65\u001b[39m,\n\u001b[0;32m      7\u001b[0m               \u001b[38;5;241m2.47\u001b[39m, \u001b[38;5;241m2.64\u001b[39m, \u001b[38;5;241m2.56\u001b[39m, \u001b[38;5;241m2.7\u001b[39m, \u001b[38;5;241m2.72\u001b[39m, \u001b[38;5;241m2.57\u001b[39m])\n",
      "\u001b[1;31mNameError\u001b[0m: name 'np' is not defined"
     ]
    }
   ],
   "source": [
    "# Copie des données du fichier R\n",
    "X = np.array([1, 1.5, 1.5, 1.5, 2.5, 4, 5, 5, 7, 8, 8.5, 9, 9.5, 9.5, 10,\n",
    "              12, 12, 13, 13, 14.5, 15.5, 15.5, 16.5, 17, 22.5, 29, 31.5])\n",
    "\n",
    "Y = np.array([1.8, 1.85, 1.87, 1.77, 2.02, 2.27, 2.15, 2.26, 2.47, 2.19,\n",
    "              2.26, 2.4, 2.39, 2.41, 2.5, 2.32, 2.32, 2.43, 2.47, 2.56, 2.65,\n",
    "              2.47, 2.64, 2.56, 2.7, 2.72, 2.57])"
   ]
  },
  {
   "cell_type": "code",
   "execution_count": 5,
   "metadata": {
    "tags": []
   },
   "outputs": [
    {
     "name": "stdout",
     "output_type": "stream",
     "text": [
      "Unexpected exception formatting exception. Falling back to standard exception\n"
     ]
    },
    {
     "name": "stderr",
     "output_type": "stream",
     "text": [
      "Traceback (most recent call last):\n",
      "  File \"C:\\Users\\elias\\AppData\\Local\\Programs\\Python\\Python311\\Lib\\site-packages\\IPython\\core\\formatters.py\", line 223, in catch_format_error\n",
      "    r = method(self, *args, **kwargs)\n",
      "        ^^^^^^^^^^^^^^^^^^^^^^^^^^^^^\n",
      "  File \"C:\\Users\\elias\\AppData\\Local\\Programs\\Python\\Python311\\Lib\\site-packages\\IPython\\core\\formatters.py\", line 344, in __call__\n",
      "    return method()\n",
      "           ^^^^^^^^\n",
      "  File \"C:\\Users\\elias\\AppData\\Local\\Programs\\Python\\Python311\\Lib\\site-packages\\pandas\\core\\frame.py\", line 1178, in _repr_html_\n",
      "  File \"C:\\Users\\elias\\AppData\\Local\\Programs\\Python\\Python311\\Lib\\site-packages\\pandas\\io\\formats\\format.py\", line 1074, in to_html\n",
      "  File \"C:\\Users\\elias\\AppData\\Local\\Programs\\Python\\Python311\\Lib\\site-packages\\pandas\\io\\formats\\html.py\", line 88, in to_string\n",
      "    lines = self.render()\n",
      "            ^^^^^^^^^^^^^\n",
      "  File \"C:\\Users\\elias\\AppData\\Local\\Programs\\Python\\Python311\\Lib\\site-packages\\pandas\\io\\formats\\html.py\", line 644, in render\n",
      "    super().render()\n",
      "  File \"C:\\Users\\elias\\AppData\\Local\\Programs\\Python\\Python311\\Lib\\site-packages\\pandas\\io\\formats\\html.py\", line 94, in render\n",
      "    self._write_table()\n",
      "  File \"C:\\Users\\elias\\AppData\\Local\\Programs\\Python\\Python311\\Lib\\site-packages\\pandas\\io\\formats\\html.py\", line 267, in _write_table\n",
      "    self._write_header(indent + self.indent_delta)\n",
      "  File \"C:\\Users\\elias\\AppData\\Local\\Programs\\Python\\Python311\\Lib\\site-packages\\pandas\\io\\formats\\html.py\", line 403, in _write_header\n",
      "    self._write_col_header(indent + self.indent_delta)\n",
      "  File \"C:\\Users\\elias\\AppData\\Local\\Programs\\Python\\Python311\\Lib\\site-packages\\pandas\\io\\formats\\html.py\", line 383, in _write_col_header\n",
      "    row.extend(self._get_columns_formatted_values())\n",
      "               ^^^^^^^^^^^^^^^^^^^^^^^^^^^^^^^^^^^^\n",
      "  File \"C:\\Users\\elias\\AppData\\Local\\Programs\\Python\\Python311\\Lib\\site-packages\\pandas\\io\\formats\\html.py\", line 611, in _get_columns_formatted_values\n",
      "    return self.columns._format_flat(include_name=False)\n",
      "           ^^^^^^^^^^^^^^^^^^^^^^^^^\n",
      "AttributeError: 'Index' object has no attribute '_format_flat'\n",
      "\n",
      "During handling of the above exception, another exception occurred:\n",
      "\n",
      "Traceback (most recent call last):\n",
      "  File \"C:\\Users\\elias\\AppData\\Local\\Programs\\Python\\Python311\\Lib\\site-packages\\IPython\\core\\interactiveshell.py\", line 2105, in showtraceback\n",
      "    stb = self.InteractiveTB.structured_traceback(\n",
      "          ^^^^^^^^^^^^^^^^^^^^^^^^^^^^^^^^^^^^^^^^\n",
      "  File \"C:\\Users\\elias\\AppData\\Local\\Programs\\Python\\Python311\\Lib\\site-packages\\IPython\\core\\ultratb.py\", line 1428, in structured_traceback\n",
      "    return FormattedTB.structured_traceback(\n",
      "           ^^^^^^^^^^^^^^^^^^^^^^^^^^^^^^^^^\n",
      "  File \"C:\\Users\\elias\\AppData\\Local\\Programs\\Python\\Python311\\Lib\\site-packages\\IPython\\core\\ultratb.py\", line 1319, in structured_traceback\n",
      "    return VerboseTB.structured_traceback(\n",
      "           ^^^^^^^^^^^^^^^^^^^^^^^^^^^^^^^\n",
      "  File \"C:\\Users\\elias\\AppData\\Local\\Programs\\Python\\Python311\\Lib\\site-packages\\IPython\\core\\ultratb.py\", line 1172, in structured_traceback\n",
      "    formatted_exception = self.format_exception_as_a_whole(etype, evalue, etb, number_of_lines_of_context,\n",
      "                          ^^^^^^^^^^^^^^^^^^^^^^^^^^^^^^^^^^^^^^^^^^^^^^^^^^^^^^^^^^^^^^^^^^^^^^^^^^^^^^^^\n",
      "  File \"C:\\Users\\elias\\AppData\\Local\\Programs\\Python\\Python311\\Lib\\site-packages\\IPython\\core\\ultratb.py\", line 1087, in format_exception_as_a_whole\n",
      "    frames.append(self.format_record(record))\n",
      "                  ^^^^^^^^^^^^^^^^^^^^^^^^^^\n",
      "  File \"C:\\Users\\elias\\AppData\\Local\\Programs\\Python\\Python311\\Lib\\site-packages\\IPython\\core\\ultratb.py\", line 969, in format_record\n",
      "    frame_info.lines, Colors, self.has_colors, lvals\n",
      "    ^^^^^^^^^^^^^^^^\n",
      "  File \"C:\\Users\\elias\\AppData\\Local\\Programs\\Python\\Python311\\Lib\\site-packages\\IPython\\core\\ultratb.py\", line 792, in lines\n",
      "    return self._sd.lines\n",
      "           ^^^^^^^^^^^^^^\n",
      "  File \"C:\\Users\\elias\\AppData\\Local\\Programs\\Python\\Python311\\Lib\\site-packages\\stack_data\\utils.py\", line 144, in cached_property_wrapper\n",
      "    value = obj.__dict__[self.func.__name__] = self.func(obj)\n",
      "                                               ^^^^^^^^^^^^^^\n",
      "  File \"C:\\Users\\elias\\AppData\\Local\\Programs\\Python\\Python311\\Lib\\site-packages\\stack_data\\core.py\", line 734, in lines\n",
      "    pieces = self.included_pieces\n",
      "             ^^^^^^^^^^^^^^^^^^^^\n",
      "  File \"C:\\Users\\elias\\AppData\\Local\\Programs\\Python\\Python311\\Lib\\site-packages\\stack_data\\utils.py\", line 144, in cached_property_wrapper\n",
      "    value = obj.__dict__[self.func.__name__] = self.func(obj)\n",
      "                                               ^^^^^^^^^^^^^^\n",
      "  File \"C:\\Users\\elias\\AppData\\Local\\Programs\\Python\\Python311\\Lib\\site-packages\\stack_data\\core.py\", line 681, in included_pieces\n",
      "    pos = scope_pieces.index(self.executing_piece)\n",
      "                             ^^^^^^^^^^^^^^^^^^^^\n",
      "  File \"C:\\Users\\elias\\AppData\\Local\\Programs\\Python\\Python311\\Lib\\site-packages\\stack_data\\utils.py\", line 144, in cached_property_wrapper\n",
      "    value = obj.__dict__[self.func.__name__] = self.func(obj)\n",
      "                                               ^^^^^^^^^^^^^^\n",
      "  File \"C:\\Users\\elias\\AppData\\Local\\Programs\\Python\\Python311\\Lib\\site-packages\\stack_data\\core.py\", line 660, in executing_piece\n",
      "    return only(\n",
      "           ^^^^^\n",
      "  File \"C:\\Users\\elias\\AppData\\Local\\Programs\\Python\\Python311\\Lib\\site-packages\\executing\\executing.py\", line 190, in only\n",
      "    raise NotOneValueFound('Expected one value, found 0')\n",
      "executing.executing.NotOneValueFound: Expected one value, found 0\n"
     ]
    },
    {
     "data": {
      "text/plain": [
       "       X     Y\n",
       "0    1.0  1.80\n",
       "1    1.5  1.85\n",
       "2    1.5  1.87\n",
       "3    1.5  1.77\n",
       "4    2.5  2.02\n",
       "5    4.0  2.27\n",
       "6    5.0  2.15\n",
       "7    5.0  2.26\n",
       "8    7.0  2.47\n",
       "9    8.0  2.19\n",
       "10   8.5  2.26\n",
       "11   9.0  2.40\n",
       "12   9.5  2.39\n",
       "13   9.5  2.41\n",
       "14  10.0  2.50\n",
       "15  12.0  2.32\n",
       "16  12.0  2.32\n",
       "17  13.0  2.43\n",
       "18  13.0  2.47\n",
       "19  14.5  2.56\n",
       "20  15.5  2.65\n",
       "21  15.5  2.47\n",
       "22  16.5  2.64\n",
       "23  17.0  2.56\n",
       "24  22.5  2.70\n",
       "25  29.0  2.72\n",
       "26  31.5  2.57"
      ]
     },
     "execution_count": 5,
     "metadata": {},
     "output_type": "execute_result"
    }
   ],
   "source": [
    "donnees = pd.DataFrame({\"X\": X, \"Y\": Y})\n",
    "donnees.reset_index(drop=True, inplace=True)\n",
    "donnees"
   ]
  },
  {
   "cell_type": "code",
   "execution_count": 6,
   "metadata": {
    "tags": []
   },
   "outputs": [],
   "source": [
    "lissage = sm.nonparametric.lowess\n",
    "points_lisses = lissage(donnees[\"Y\"], donnees[\"X\"], frac=0.4)"
   ]
  },
  {
   "cell_type": "code",
   "execution_count": 7,
   "metadata": {
    "tags": []
   },
   "outputs": [
    {
     "ename": "TypeError",
     "evalue": "to_dict() takes from 1 to 2 positional arguments but 4 were given",
     "output_type": "error",
     "traceback": [
      "\u001b[1;31m---------------------------------------------------------------------------\u001b[0m",
      "\u001b[1;31mTypeError\u001b[0m                                 Traceback (most recent call last)",
      "\u001b[1;32m~\\AppData\\Local\\Temp\\ipykernel_9412\\402279576.py\u001b[0m in \u001b[0;36m?\u001b[1;34m()\u001b[0m\n\u001b[0;32m      1\u001b[0m \u001b[1;31m# Visualisation\u001b[0m\u001b[1;33m\u001b[0m\u001b[1;33m\u001b[0m\u001b[0m\n\u001b[1;32m----> 2\u001b[1;33m \u001b[0msns\u001b[0m\u001b[1;33m.\u001b[0m\u001b[0mscatterplot\u001b[0m\u001b[1;33m(\u001b[0m\u001b[0mx\u001b[0m\u001b[1;33m=\u001b[0m\u001b[1;34m\"X\"\u001b[0m\u001b[1;33m,\u001b[0m \u001b[0my\u001b[0m\u001b[1;33m=\u001b[0m\u001b[1;34m\"Y\"\u001b[0m\u001b[1;33m,\u001b[0m \u001b[0mdata\u001b[0m\u001b[1;33m=\u001b[0m\u001b[0mdonnees\u001b[0m\u001b[1;33m,\u001b[0m \u001b[0mcolor\u001b[0m\u001b[1;33m=\u001b[0m\u001b[1;34m'black'\u001b[0m\u001b[1;33m)\u001b[0m\u001b[1;33m\u001b[0m\u001b[1;33m\u001b[0m\u001b[0m\n\u001b[0m\u001b[0;32m      3\u001b[0m \u001b[0mplt\u001b[0m\u001b[1;33m.\u001b[0m\u001b[0mplot\u001b[0m\u001b[1;33m(\u001b[0m\u001b[0mpoints_lisses\u001b[0m\u001b[1;33m[\u001b[0m\u001b[1;33m:\u001b[0m\u001b[1;33m,\u001b[0m \u001b[1;36m0\u001b[0m\u001b[1;33m]\u001b[0m\u001b[1;33m,\u001b[0m \u001b[0mpoints_lisses\u001b[0m\u001b[1;33m[\u001b[0m\u001b[1;33m:\u001b[0m\u001b[1;33m,\u001b[0m \u001b[1;36m1\u001b[0m\u001b[1;33m]\u001b[0m\u001b[1;33m,\u001b[0m \u001b[1;34m'g-'\u001b[0m\u001b[1;33m,\u001b[0m \u001b[0mlw\u001b[0m\u001b[1;33m=\u001b[0m\u001b[1;36m3\u001b[0m\u001b[1;33m)\u001b[0m\u001b[1;33m\u001b[0m\u001b[1;33m\u001b[0m\u001b[0m\n\u001b[0;32m      4\u001b[0m \u001b[0mplt\u001b[0m\u001b[1;33m.\u001b[0m\u001b[0mtitle\u001b[0m\u001b[1;33m(\u001b[0m\u001b[1;34m\"Dugong : La variable Age en fonction de la variable Longueur\"\u001b[0m\u001b[1;33m)\u001b[0m\u001b[1;33m\u001b[0m\u001b[1;33m\u001b[0m\u001b[0m\n\u001b[0;32m      5\u001b[0m \u001b[0mplt\u001b[0m\u001b[1;33m.\u001b[0m\u001b[0mxlabel\u001b[0m\u001b[1;33m(\u001b[0m\u001b[1;34m\"Age\"\u001b[0m\u001b[1;33m)\u001b[0m\u001b[1;33m\u001b[0m\u001b[1;33m\u001b[0m\u001b[0m\n",
      "\u001b[1;32m~\\AppData\\Local\\Programs\\Python\\Python311\\Lib\\site-packages\\seaborn\\relational.py\u001b[0m in \u001b[0;36m?\u001b[1;34m(data, x, y, hue, size, style, palette, hue_order, hue_norm, sizes, size_order, size_norm, markers, style_order, legend, ax, **kwargs)\u001b[0m\n\u001b[0;32m    599\u001b[0m     \u001b[0mmarkers\u001b[0m\u001b[1;33m=\u001b[0m\u001b[1;32mTrue\u001b[0m\u001b[1;33m,\u001b[0m \u001b[0mstyle_order\u001b[0m\u001b[1;33m=\u001b[0m\u001b[1;32mNone\u001b[0m\u001b[1;33m,\u001b[0m \u001b[0mlegend\u001b[0m\u001b[1;33m=\u001b[0m\u001b[1;34m\"auto\"\u001b[0m\u001b[1;33m,\u001b[0m \u001b[0max\u001b[0m\u001b[1;33m=\u001b[0m\u001b[1;32mNone\u001b[0m\u001b[1;33m,\u001b[0m\u001b[1;33m\u001b[0m\u001b[1;33m\u001b[0m\u001b[0m\n\u001b[0;32m    600\u001b[0m     \u001b[1;33m**\u001b[0m\u001b[0mkwargs\u001b[0m\u001b[1;33m\u001b[0m\u001b[1;33m\u001b[0m\u001b[0m\n\u001b[0;32m    601\u001b[0m ):\n\u001b[0;32m    602\u001b[0m \u001b[1;33m\u001b[0m\u001b[0m\n\u001b[1;32m--> 603\u001b[1;33m     p = _ScatterPlotter(\n\u001b[0m\u001b[0;32m    604\u001b[0m         \u001b[0mdata\u001b[0m\u001b[1;33m=\u001b[0m\u001b[0mdata\u001b[0m\u001b[1;33m,\u001b[0m\u001b[1;33m\u001b[0m\u001b[1;33m\u001b[0m\u001b[0m\n\u001b[0;32m    605\u001b[0m         \u001b[0mvariables\u001b[0m\u001b[1;33m=\u001b[0m\u001b[0mdict\u001b[0m\u001b[1;33m(\u001b[0m\u001b[0mx\u001b[0m\u001b[1;33m=\u001b[0m\u001b[0mx\u001b[0m\u001b[1;33m,\u001b[0m \u001b[0my\u001b[0m\u001b[1;33m=\u001b[0m\u001b[0my\u001b[0m\u001b[1;33m,\u001b[0m \u001b[0mhue\u001b[0m\u001b[1;33m=\u001b[0m\u001b[0mhue\u001b[0m\u001b[1;33m,\u001b[0m \u001b[0msize\u001b[0m\u001b[1;33m=\u001b[0m\u001b[0msize\u001b[0m\u001b[1;33m,\u001b[0m \u001b[0mstyle\u001b[0m\u001b[1;33m=\u001b[0m\u001b[0mstyle\u001b[0m\u001b[1;33m)\u001b[0m\u001b[1;33m,\u001b[0m\u001b[1;33m\u001b[0m\u001b[1;33m\u001b[0m\u001b[0m\n\u001b[0;32m    606\u001b[0m         \u001b[0mlegend\u001b[0m\u001b[1;33m=\u001b[0m\u001b[0mlegend\u001b[0m\u001b[1;33m\u001b[0m\u001b[1;33m\u001b[0m\u001b[0m\n",
      "\u001b[1;32m~\\AppData\\Local\\Programs\\Python\\Python311\\Lib\\site-packages\\seaborn\\relational.py\u001b[0m in \u001b[0;36m?\u001b[1;34m(self, data, variables, legend)\u001b[0m\n\u001b[0;32m    386\u001b[0m         self._default_size_range = (\n\u001b[0;32m    387\u001b[0m             \u001b[0mnp\u001b[0m\u001b[1;33m.\u001b[0m\u001b[0mr_\u001b[0m\u001b[1;33m[\u001b[0m\u001b[1;36m.5\u001b[0m\u001b[1;33m,\u001b[0m \u001b[1;36m2\u001b[0m\u001b[1;33m]\u001b[0m \u001b[1;33m*\u001b[0m \u001b[0mnp\u001b[0m\u001b[1;33m.\u001b[0m\u001b[0msquare\u001b[0m\u001b[1;33m(\u001b[0m\u001b[0mmpl\u001b[0m\u001b[1;33m.\u001b[0m\u001b[0mrcParams\u001b[0m\u001b[1;33m[\u001b[0m\u001b[1;34m\"lines.markersize\"\u001b[0m\u001b[1;33m]\u001b[0m\u001b[1;33m)\u001b[0m\u001b[1;33m\u001b[0m\u001b[1;33m\u001b[0m\u001b[0m\n\u001b[0;32m    388\u001b[0m         )\n\u001b[0;32m    389\u001b[0m \u001b[1;33m\u001b[0m\u001b[0m\n\u001b[1;32m--> 390\u001b[1;33m         \u001b[0msuper\u001b[0m\u001b[1;33m(\u001b[0m\u001b[1;33m)\u001b[0m\u001b[1;33m.\u001b[0m\u001b[0m__init__\u001b[0m\u001b[1;33m(\u001b[0m\u001b[0mdata\u001b[0m\u001b[1;33m=\u001b[0m\u001b[0mdata\u001b[0m\u001b[1;33m,\u001b[0m \u001b[0mvariables\u001b[0m\u001b[1;33m=\u001b[0m\u001b[0mvariables\u001b[0m\u001b[1;33m)\u001b[0m\u001b[1;33m\u001b[0m\u001b[1;33m\u001b[0m\u001b[0m\n\u001b[0m\u001b[0;32m    391\u001b[0m \u001b[1;33m\u001b[0m\u001b[0m\n\u001b[0;32m    392\u001b[0m         \u001b[0mself\u001b[0m\u001b[1;33m.\u001b[0m\u001b[0mlegend\u001b[0m \u001b[1;33m=\u001b[0m \u001b[0mlegend\u001b[0m\u001b[1;33m\u001b[0m\u001b[1;33m\u001b[0m\u001b[0m\n",
      "\u001b[1;32m~\\AppData\\Local\\Programs\\Python\\Python311\\Lib\\site-packages\\seaborn\\_base.py\u001b[0m in \u001b[0;36m?\u001b[1;34m(self, data, variables)\u001b[0m\n\u001b[0;32m    630\u001b[0m         \u001b[1;31m# be better handled by an internal axis information object that tracks\u001b[0m\u001b[1;33m\u001b[0m\u001b[1;33m\u001b[0m\u001b[0m\n\u001b[0;32m    631\u001b[0m         \u001b[1;31m# such information and is set up by the scale_* methods. The analogous\u001b[0m\u001b[1;33m\u001b[0m\u001b[1;33m\u001b[0m\u001b[0m\n\u001b[0;32m    632\u001b[0m         \u001b[1;31m# information for numeric axes would be information about log scales.\u001b[0m\u001b[1;33m\u001b[0m\u001b[1;33m\u001b[0m\u001b[0m\n\u001b[0;32m    633\u001b[0m         \u001b[0mself\u001b[0m\u001b[1;33m.\u001b[0m\u001b[0m_var_ordered\u001b[0m \u001b[1;33m=\u001b[0m \u001b[1;33m{\u001b[0m\u001b[1;34m\"x\"\u001b[0m\u001b[1;33m:\u001b[0m \u001b[1;32mFalse\u001b[0m\u001b[1;33m,\u001b[0m \u001b[1;34m\"y\"\u001b[0m\u001b[1;33m:\u001b[0m \u001b[1;32mFalse\u001b[0m\u001b[1;33m}\u001b[0m  \u001b[1;31m# alt., used DefaultDict\u001b[0m\u001b[1;33m\u001b[0m\u001b[1;33m\u001b[0m\u001b[0m\n\u001b[1;32m--> 634\u001b[1;33m         \u001b[0mself\u001b[0m\u001b[1;33m.\u001b[0m\u001b[0massign_variables\u001b[0m\u001b[1;33m(\u001b[0m\u001b[0mdata\u001b[0m\u001b[1;33m,\u001b[0m \u001b[0mvariables\u001b[0m\u001b[1;33m)\u001b[0m\u001b[1;33m\u001b[0m\u001b[1;33m\u001b[0m\u001b[0m\n\u001b[0m\u001b[0;32m    635\u001b[0m \u001b[1;33m\u001b[0m\u001b[0m\n\u001b[0;32m    636\u001b[0m         \u001b[1;31m# TODO Lots of tests assume that these are called to initialize the\u001b[0m\u001b[1;33m\u001b[0m\u001b[1;33m\u001b[0m\u001b[0m\n\u001b[0;32m    637\u001b[0m         \u001b[1;31m# mappings to default values on class initialization. I'd prefer to\u001b[0m\u001b[1;33m\u001b[0m\u001b[1;33m\u001b[0m\u001b[0m\n",
      "\u001b[1;32m~\\AppData\\Local\\Programs\\Python\\Python311\\Lib\\site-packages\\seaborn\\_base.py\u001b[0m in \u001b[0;36m?\u001b[1;34m(self, data, variables)\u001b[0m\n\u001b[0;32m    675\u001b[0m             \u001b[1;31m# When dealing with long-form input, use the newer PlotData\u001b[0m\u001b[1;33m\u001b[0m\u001b[1;33m\u001b[0m\u001b[0m\n\u001b[0;32m    676\u001b[0m             \u001b[1;31m# object (internal but introduced for the objects interface)\u001b[0m\u001b[1;33m\u001b[0m\u001b[1;33m\u001b[0m\u001b[0m\n\u001b[0;32m    677\u001b[0m             \u001b[1;31m# to centralize / standardize data consumption logic.\u001b[0m\u001b[1;33m\u001b[0m\u001b[1;33m\u001b[0m\u001b[0m\n\u001b[0;32m    678\u001b[0m             \u001b[0mself\u001b[0m\u001b[1;33m.\u001b[0m\u001b[0minput_format\u001b[0m \u001b[1;33m=\u001b[0m \u001b[1;34m\"long\"\u001b[0m\u001b[1;33m\u001b[0m\u001b[1;33m\u001b[0m\u001b[0m\n\u001b[1;32m--> 679\u001b[1;33m             \u001b[0mplot_data\u001b[0m \u001b[1;33m=\u001b[0m \u001b[0mPlotData\u001b[0m\u001b[1;33m(\u001b[0m\u001b[0mdata\u001b[0m\u001b[1;33m,\u001b[0m \u001b[0mvariables\u001b[0m\u001b[1;33m)\u001b[0m\u001b[1;33m\u001b[0m\u001b[1;33m\u001b[0m\u001b[0m\n\u001b[0m\u001b[0;32m    680\u001b[0m             \u001b[0mframe\u001b[0m \u001b[1;33m=\u001b[0m \u001b[0mplot_data\u001b[0m\u001b[1;33m.\u001b[0m\u001b[0mframe\u001b[0m\u001b[1;33m\u001b[0m\u001b[1;33m\u001b[0m\u001b[0m\n\u001b[0;32m    681\u001b[0m             \u001b[0mnames\u001b[0m \u001b[1;33m=\u001b[0m \u001b[0mplot_data\u001b[0m\u001b[1;33m.\u001b[0m\u001b[0mnames\u001b[0m\u001b[1;33m\u001b[0m\u001b[1;33m\u001b[0m\u001b[0m\n\u001b[0;32m    682\u001b[0m \u001b[1;33m\u001b[0m\u001b[0m\n",
      "\u001b[1;32m~\\AppData\\Local\\Programs\\Python\\Python311\\Lib\\site-packages\\seaborn\\_core\\data.py\u001b[0m in \u001b[0;36m?\u001b[1;34m(self, data, variables)\u001b[0m\n\u001b[0;32m     54\u001b[0m         \u001b[0mvariables\u001b[0m\u001b[1;33m:\u001b[0m \u001b[0mdict\u001b[0m\u001b[1;33m[\u001b[0m\u001b[0mstr\u001b[0m\u001b[1;33m,\u001b[0m \u001b[0mVariableSpec\u001b[0m\u001b[1;33m]\u001b[0m\u001b[1;33m,\u001b[0m\u001b[1;33m\u001b[0m\u001b[1;33m\u001b[0m\u001b[0m\n\u001b[0;32m     55\u001b[0m     ):\n\u001b[0;32m     56\u001b[0m \u001b[1;33m\u001b[0m\u001b[0m\n\u001b[0;32m     57\u001b[0m         \u001b[0mdata\u001b[0m \u001b[1;33m=\u001b[0m \u001b[0mhandle_data_source\u001b[0m\u001b[1;33m(\u001b[0m\u001b[0mdata\u001b[0m\u001b[1;33m)\u001b[0m\u001b[1;33m\u001b[0m\u001b[1;33m\u001b[0m\u001b[0m\n\u001b[1;32m---> 58\u001b[1;33m         \u001b[0mframe\u001b[0m\u001b[1;33m,\u001b[0m \u001b[0mnames\u001b[0m\u001b[1;33m,\u001b[0m \u001b[0mids\u001b[0m \u001b[1;33m=\u001b[0m \u001b[0mself\u001b[0m\u001b[1;33m.\u001b[0m\u001b[0m_assign_variables\u001b[0m\u001b[1;33m(\u001b[0m\u001b[0mdata\u001b[0m\u001b[1;33m,\u001b[0m \u001b[0mvariables\u001b[0m\u001b[1;33m)\u001b[0m\u001b[1;33m\u001b[0m\u001b[1;33m\u001b[0m\u001b[0m\n\u001b[0m\u001b[0;32m     59\u001b[0m \u001b[1;33m\u001b[0m\u001b[0m\n\u001b[0;32m     60\u001b[0m         \u001b[0mself\u001b[0m\u001b[1;33m.\u001b[0m\u001b[0mframe\u001b[0m \u001b[1;33m=\u001b[0m \u001b[0mframe\u001b[0m\u001b[1;33m\u001b[0m\u001b[1;33m\u001b[0m\u001b[0m\n\u001b[0;32m     61\u001b[0m         \u001b[0mself\u001b[0m\u001b[1;33m.\u001b[0m\u001b[0mnames\u001b[0m \u001b[1;33m=\u001b[0m \u001b[0mnames\u001b[0m\u001b[1;33m\u001b[0m\u001b[1;33m\u001b[0m\u001b[0m\n",
      "\u001b[1;32m~\\AppData\\Local\\Programs\\Python\\Python311\\Lib\\site-packages\\seaborn\\_core\\data.py\u001b[0m in \u001b[0;36m?\u001b[1;34m(self, data, variables)\u001b[0m\n\u001b[0;32m    180\u001b[0m             \u001b[0msource_data\u001b[0m \u001b[1;33m=\u001b[0m \u001b[0mdata\u001b[0m\u001b[1;33m\u001b[0m\u001b[1;33m\u001b[0m\u001b[0m\n\u001b[0;32m    181\u001b[0m \u001b[1;33m\u001b[0m\u001b[0m\n\u001b[0;32m    182\u001b[0m         \u001b[1;31m# Variables can also be extracted from the index of a DataFrame\u001b[0m\u001b[1;33m\u001b[0m\u001b[1;33m\u001b[0m\u001b[0m\n\u001b[0;32m    183\u001b[0m         \u001b[1;32mif\u001b[0m \u001b[0misinstance\u001b[0m\u001b[1;33m(\u001b[0m\u001b[0msource_data\u001b[0m\u001b[1;33m,\u001b[0m \u001b[0mpd\u001b[0m\u001b[1;33m.\u001b[0m\u001b[0mDataFrame\u001b[0m\u001b[1;33m)\u001b[0m\u001b[1;33m:\u001b[0m\u001b[1;33m\u001b[0m\u001b[1;33m\u001b[0m\u001b[0m\n\u001b[1;32m--> 184\u001b[1;33m             \u001b[0mindex\u001b[0m \u001b[1;33m=\u001b[0m \u001b[0msource_data\u001b[0m\u001b[1;33m.\u001b[0m\u001b[0mindex\u001b[0m\u001b[1;33m.\u001b[0m\u001b[0mto_frame\u001b[0m\u001b[1;33m(\u001b[0m\u001b[1;33m)\u001b[0m\u001b[1;33m.\u001b[0m\u001b[0mto_dict\u001b[0m\u001b[1;33m(\u001b[0m\u001b[1;34m\"series\"\u001b[0m\u001b[1;33m)\u001b[0m\u001b[1;33m\u001b[0m\u001b[1;33m\u001b[0m\u001b[0m\n\u001b[0m\u001b[0;32m    185\u001b[0m         \u001b[1;32melse\u001b[0m\u001b[1;33m:\u001b[0m\u001b[1;33m\u001b[0m\u001b[1;33m\u001b[0m\u001b[0m\n\u001b[0;32m    186\u001b[0m             \u001b[0mindex\u001b[0m \u001b[1;33m=\u001b[0m \u001b[1;33m{\u001b[0m\u001b[1;33m}\u001b[0m\u001b[1;33m\u001b[0m\u001b[1;33m\u001b[0m\u001b[0m\n\u001b[0;32m    187\u001b[0m \u001b[1;33m\u001b[0m\u001b[0m\n",
      "\u001b[1;32m~\\AppData\\Local\\Programs\\Python\\Python311\\Lib\\site-packages\\pandas\\core\\frame.py\u001b[0m in \u001b[0;36m?\u001b[1;34m(self, orient, into, index)\u001b[0m\n",
      "\u001b[1;31mTypeError\u001b[0m: to_dict() takes from 1 to 2 positional arguments but 4 were given"
     ]
    }
   ],
   "source": [
    "# Visualisation \n",
    "sns.scatterplot(x=\"X\", y=\"Y\", data=donnees, color='black')\n",
    "plt.plot(points_lisses[:, 0], points_lisses[:, 1], 'g-', lw=3)\n",
    "plt.title(\"Dugong : La variable Age en fonction de la variable Longueur\")\n",
    "plt.xlabel(\"Age\")\n",
    "plt.ylabel(\"Longueur\")\n",
    "plt.show()"
   ]
  },
  {
   "cell_type": "markdown",
   "metadata": {},
   "source": [
    "## Fonctions Utilitaires pour le code"
   ]
  },
  {
   "cell_type": "code",
   "execution_count": null,
   "metadata": {
    "tags": []
   },
   "outputs": [],
   "source": [
    "def logit(x):\n",
    "    return np.log(x / (1 - x))\n",
    "\n",
    "def inv_logit(x):\n",
    "    return 1 / (1 + np.exp(-x))"
   ]
  },
  {
   "cell_type": "code",
   "execution_count": null,
   "metadata": {
    "tags": []
   },
   "outputs": [],
   "source": [
    "def gibbs_sampling(age, Y, nchain=10**4, propo_sd=np.array([0.02, 0.8, 4, 0.25])):\n",
    "    initialisation = np.array([1, 1, 1, 0.9])\n",
    "    chain = np.empty((nchain + 1, 4))\n",
    "    chain[0, :] = initialisation\n",
    "    ecart_type = 1000\n",
    "\n",
    "    for i in range(nchain):\n",
    "        etat_actuel = chain[i, :]\n",
    "\n",
    "        # Mise à jour de alpha\n",
    "        propo = etat_actuel.copy()\n",
    "        propo[0] = np.random.lognormal(np.log(etat_actuel[0]), propo_sd[0])\n",
    "        kernel_ratio = propo[0] / etat_actuel[0] \n",
    "\n",
    "        top = np.sum(norm.logpdf(Y, propo[0] - etat_actuel[1] * etat_actuel[3] ** age, 1 / np.sqrt(etat_actuel[2]))) + \\\n",
    "            norm.logpdf(propo[0], 0, ecart_type)\n",
    "        bottom = np.sum(norm.logpdf(Y, etat_actuel[0] - etat_actuel[1] * etat_actuel[3] ** age, 1 / np.sqrt(etat_actuel[2]))) + \\\n",
    "            norm.logpdf(etat_actuel[0], 0, ecart_type)\n",
    "\n",
    "        proba_accept = np.exp(top - bottom) * kernel_ratio\n",
    "\n",
    "        if np.random.uniform() < proba_accept:\n",
    "            etat_actuel = propo.copy()\n",
    "\n",
    "        # Mise à jour de beta\n",
    "        propo = etat_actuel.copy()\n",
    "        propo[1] = np.random.lognormal(np.log(etat_actuel[1]), propo_sd[1])\n",
    "        kernel_ratio = propo[1] / etat_actuel[1]\n",
    "\n",
    "        top = np.sum(norm.logpdf(Y, etat_actuel[0] - propo[1] * etat_actuel[3] ** age, 1 / np.sqrt(etat_actuel[2]))) + \\\n",
    "            norm.logpdf(propo[1], 0, ecart_type)\n",
    "        bottom = np.sum(norm.logpdf(Y, etat_actuel[0] - etat_actuel[1] * etat_actuel[3] ** age, 1 / np.sqrt(etat_actuel[2]))) + \\\n",
    "            norm.logpdf(etat_actuel[1], 0, ecart_type)\n",
    "\n",
    "        proba_accept = np.exp(top - bottom) * kernel_ratio\n",
    "\n",
    "        if np.random.uniform() < proba_accept:\n",
    "            etat_actuel = propo.copy()\n",
    "\n",
    "        # Mise à jour de tau\n",
    "        propo = etat_actuel.copy()\n",
    "        propo[2] = np.random.lognormal(np.log(etat_actuel[2]), propo_sd[2])\n",
    "\n",
    "        kernel_ratio = propo[2] / etat_actuel[2]\n",
    "\n",
    "        top = np.sum(norm.logpdf(Y, etat_actuel[0] - etat_actuel[1] * etat_actuel[3] ** age, 1 / np.sqrt(propo[2]))) + \\\n",
    "            gamma.logpdf(propo[2], a=0.001, scale=1/0.001)\n",
    "        bottom = np.sum(norm.logpdf(Y, etat_actuel[0] - etat_actuel[1] * etat_actuel[3] ** age, 1 / np.sqrt(etat_actuel[2]))) + \\\n",
    "            gamma.logpdf(etat_actuel[2], a=0.001, scale=1/0.001)\n",
    "\n",
    "        proba_accept = np.exp(top - bottom) * kernel_ratio\n",
    "\n",
    "        if np.random.uniform() < proba_accept:\n",
    "            etat_actuel = propo.copy()\n",
    "        # Mise à jour de gamma\n",
    "        propo = etat_actuel.copy()\n",
    "        propo[3] = np.random.lognormal(np.log(etat_actuel[3]), propo_sd[3])\n",
    "\n",
    "        kernel_ratio = propo[3] / etat_actuel[3]\n",
    "        top = np.sum(norm.logpdf(Y, etat_actuel[0] - etat_actuel[1] * propo[3] ** age, 1 / np.sqrt(etat_actuel[2]))) + \\\n",
    "            uniform.logpdf(propo[3], 0.5, 0.5)\n",
    "        bottom = np.sum(norm.logpdf(Y, etat_actuel[0] - etat_actuel[1] * etat_actuel[3] ** age, 1 / np.sqrt(etat_actuel[2]))) + \\\n",
    "            uniform.logpdf(etat_actuel[3], 0.5, 0.5)\n",
    "\n",
    "        proba_accept = np.exp(top - bottom) * kernel_ratio\n",
    "\n",
    "        if np.random.uniform() < proba_accept and propo[3] < 1:\n",
    "            etat_actuel = propo.copy()\n",
    "\n",
    "        # Sauvegarde du nouvel état\n",
    "        chain[i + 1, :] = etat_actuel\n",
    "\n",
    "    return chain"
   ]
  },
  {
   "cell_type": "markdown",
   "metadata": {},
   "source": [
    "## Visualization of the parameters $\\alpha , \\tau, \\gamma , \\beta $ : \n"
   ]
  },
  {
   "cell_type": "code",
   "execution_count": null,
   "metadata": {
    "tags": []
   },
   "outputs": [],
   "source": [
    "nchain = 10000\n",
    "chain = gibbs_sampling(X, Y, nchain)\n",
    "\n",
    "# Remove burning period\n",
    "burn_in = 1000\n",
    "chain = chain[burn_in:]\n",
    "\n",
    "\n",
    "# Set the style for the plots and define custom color palette\n",
    "sns.set(style=\"darkgrid\")\n",
    "custom_palette = sns.color_palette(\"husl\")\n",
    "\n",
    "# Trace plots\n",
    "def plot_trace(chains, param_names, burn_in=0):\n",
    "    n_params = len(param_names)\n",
    "    fig, axes = plt.subplots(n_params, 1, figsize=(10, 3 * n_params))\n",
    "\n",
    "    for idx, ax in enumerate(axes):\n",
    "        ax.plot(chains[burn_in:, idx], color=custom_palette[idx], alpha=0.7)\n",
    "        ax.set_title(param_names[idx])\n",
    "\n",
    "    plt.tight_layout()\n",
    "    plt.show()\n",
    "\n",
    "# Histograms\n",
    "def plot_histograms(chains, param_names, burn_in=0):\n",
    "    n_params = len(param_names)\n",
    "    fig, axes = plt.subplots(n_params, 1, figsize=(10, 3 * n_params))\n",
    "\n",
    "    for idx, ax in enumerate(axes):\n",
    "        sns.histplot(chains[burn_in:, idx], kde=True, ax=ax, color=custom_palette[idx])\n",
    "        ax.set_title(param_names[idx])\n",
    "\n",
    "    plt.tight_layout()\n",
    "    plt.show()\n",
    "\n",
    "# Summary statistics\n",
    "def summarize_chains(chains, param_names, burn_in):\n",
    "    summary_df = pd.DataFrame(chains[burn_in:], columns=param_names).describe().transpose()\n",
    "    return summary_df\n",
    "\n",
    "\n",
    "\n",
    "# Plot trace plots and histograms for alpha, beta1, beta2, sigma2\n",
    "param_names = ['alpha', 'beta', 'tau', 'gamma']\n",
    "plot_trace(chain, param_names, burn_in)\n",
    "plot_histograms(chain, param_names, burn_in)\n"
   ]
  },
  {
   "cell_type": "markdown",
   "metadata": {},
   "source": [
    "## Analyse de la croissance des dugongs : Modélisation et prévisions basées sur les données observées"
   ]
  },
  {
   "cell_type": "code",
   "execution_count": null,
   "metadata": {
    "tags": []
   },
   "outputs": [],
   "source": [
    "# Courbe de croissance ajustée\n",
    "def courbe_de_croissance_ajustee(age, alpha, beta, gamma):\n",
    "    return alpha - beta * gamma ** age\n",
    "\n",
    "# Valeurs moyennes des paramètres\n",
    "moyenne_alpha = np.mean(chain[:, 0])\n",
    "moyenne_beta = np.mean(chain[:, 1])\n",
    "moyenne_gamma = np.mean(chain[:, 3])\n",
    "\n",
    "# Tracer les données observées et la courbe de croissance ajustée\n",
    "sns.scatterplot(x=\"X\", y=\"Y\", data=donnees, label=\"Données observées\")\n",
    "plage_age = np.linspace(X.min(), X.max(), 100)\n",
    "plt.plot(plage_age, courbe_de_croissance_ajustee(plage_age, moyenne_alpha, moyenne_beta, moyenne_gamma), 'b-', lw=2, label=\"Courbe de croissance ajustée\")\n",
    "plt.title(\"Dugong\")\n",
    "plt.xlabel(\"Âge\")\n",
    "plt.ylabel(\"Longueur\")\n",
    "plt.legend()\n",
    "plt.show()\n",
    "\n",
    "# Prédire la longueur d'un nouveau dugong avec un âge donné\n",
    "nouvel_age = 20\n",
    "longueur_predite = courbe_de_croissance_ajustee(nouvel_age, moyenne_alpha, moyenne_beta, moyenne_gamma)\n",
    "print(f\"Longueur prédite pour un dugong de {nouvel_age} ans : {longueur_predite:.2f}\")\n"
   ]
  },
  {
   "cell_type": "markdown",
   "metadata": {},
   "source": [
    "Le graphique affiche la relation entre l'âge et la longueur des dugongs, avec les points de données observés et une courbe de croissance ajustée. La courbe de croissance ajustée, tracée en rouge, est basée sur les valeurs moyennes des paramètres estimés à partir de l'algorithme de Gibbs.\n",
    "\n",
    "Le graphique illustre que la courbe de croissance ajustée suit de près les points de données observés, démontrant que le modèle est approprié pour analyser la croissance des dugongs. Il montre également la nature non linéaire de la relation entre l'âge et la longueur, avec le taux de croissance ralentissant à mesure que les dugongs vieillissent.\n",
    "\n",
    "De plus, la longueur prédite pour un dugong de 20 ans est affichée comme étant de 2.61, fournissant une estimation de la longueur du dugong basée sur la courbe de croissance ajustée.\n"
   ]
  },
  {
   "cell_type": "markdown",
   "metadata": {},
   "source": [
    "## Comparaison entre le modèle et la base "
   ]
  },
  {
   "cell_type": "code",
   "execution_count": null,
   "metadata": {
    "tags": []
   },
   "outputs": [],
   "source": [
    "# Création du Dataframe de paramètres\n",
    "resultats = pd.DataFrame()\n",
    "resultats['alpha']=chain[:, 0]\n",
    "resultats['beta']=chain[:, 1]\n",
    "resultats['sigma']=1/np.sqrt(chain[:, 2])\n",
    "resultats['gamma']=chain[:, 3]\n",
    "\n",
    "# Fonction de tracé pour la comparaison\n",
    "def plot_parameter_comparison(params_df):\n",
    "    ind = np.arange(len(params_df))  \n",
    "    width = 0.35  \n",
    "\n",
    "    fig, ax = plt.subplots()\n",
    "    rect1 = ax.bar(ind - width / 2, params_df['mean'], width, label='Modèle', yerr=params_df['std'])\n",
    "    rect2 = ax.bar(ind + width / 2, params_df['mean'], width, label='Base', yerr=params_df['std_base'])\n",
    "\n",
    "    ax.set_ylabel('Valeurs des paramètres')\n",
    "    ax.set_title('Comparaison des paramètres entre le modèle et la base')\n",
    "    ax.set_xticks(ind)\n",
    "    ax.set_xticklabels(['alpha', 'beta', 'gamma' , 'sigma'])\n",
    "    ax.legend()\n",
    "\n",
    "    plt.show()\n",
    "\n",
    "resultats_summary = resultats.describe().T\n",
    "print(resultats_summary)\n",
    "\n",
    "params_df = pd.DataFrame()\n",
    "params_df['mean'] = resultats_summary['mean']\n",
    "params_df['std'] = resultats_summary['std']\n",
    "\n",
    "# Estimation de Carlin et Gelfand \n",
    "params_df['mean_base'] = [2.652, 0.9729 ,0.0992 ,0.8623  ]\n",
    "params_df['std_base'] = [0.07094, 0.07649,0.01496, 0.03259]\n",
    "params_df.reset_index(drop=True, inplace=True)\n",
    "\n",
    "plot_parameter_comparison(params_df)"
   ]
  },
  {
   "cell_type": "markdown",
   "metadata": {},
   "source": [
    "En comparant nos résultats avec les valeurs de référence, on observe que nos estimations se rapprochent de ce qui était attendu. Ainsi, notre mise en oeuvre de l'algorithme de Gibbs semble correcte et notre modèle est adapté pour analyser les données de cette étude."
   ]
  }
 ],
 "metadata": {
  "kernelspec": {
   "display_name": "Python 3 (ipykernel)",
   "language": "python",
   "name": "python3"
  },
  "language_info": {
   "codemirror_mode": {
    "name": "ipython",
    "version": 3
   },
   "file_extension": ".py",
   "mimetype": "text/x-python",
   "name": "python",
   "nbconvert_exporter": "python",
   "pygments_lexer": "ipython3",
   "version": "3.11.4"
  }
 },
 "nbformat": 4,
 "nbformat_minor": 4
}
