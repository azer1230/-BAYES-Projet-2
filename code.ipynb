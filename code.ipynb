{
 "cells": [
  {
   "cell_type": "markdown",
   "metadata": {},
   "source": [
    "### Importation des bibliothèques "
   ]
  },
  {
   "cell_type": "code",
   "execution_count": 1,
   "metadata": {},
   "outputs": [],
   "source": [
    "import numpy as np\n",
    "import seaborn as sns\n",
    "import pandas as pd\n",
    "import matplotlib.pyplot as plt\n",
    "from scipy.stats import norm, gamma, truncnorm, uniform\n",
    "import statsmodels.api as sm"
   ]
  },
  {
   "cell_type": "markdown",
   "metadata": {},
   "source": [
    "### Données "
   ]
  },
  {
   "cell_type": "code",
   "execution_count": 2,
   "metadata": {},
   "outputs": [],
   "source": [
    "X = np.array([1, 1.5, 1.5, 1.5, 2.5, 4, 5, 5, 7, 8, 8.5, 9, 9.5, 9.5, 10,\n",
    "              12, 12, 13, 13, 14.5, 15.5, 15.5, 16.5, 17, 22.5, 29, 31.5])\n",
    "\n",
    "Y = np.array([1.8, 1.85, 1.87, 1.77, 2.02, 2.27, 2.15, 2.26, 2.47, 2.19,\n",
    "              2.26, 2.4, 2.39, 2.41, 2.5, 2.32, 2.32, 2.43, 2.47, 2.56, 2.65,\n",
    "              2.47, 2.64, 2.56, 2.7, 2.72, 2.57])"
   ]
  },
  {
   "cell_type": "code",
   "execution_count": 3,
   "metadata": {},
   "outputs": [],
   "source": [
    "donnees = pd.DataFrame({\"X\": X, \"Y\": Y})\n",
    "lissage = sm.nonparametric.lowess\n",
    "points_lisses = lissage(donnees[\"Y\"], donnees[\"X\"], frac=0.4)"
   ]
  },
  {
   "cell_type": "code",
   "execution_count": 11,
   "metadata": {},
   "outputs": [
    {
     "data": {
      "image/png": "[encoded data removed]",
      "text/plain": [
       "<Figure size 640x480 with 1 Axes>"
      ]
     },
     "metadata": {},
     "output_type": "display_data"
    }
   ],
   "source": [
    "# Visualisation \n",
    "sns.set_theme()\n",
    "sns.scatterplot(x=\"X\", y=\"Y\", data=donnees, color='black')\n",
    "plt.plot(points_lisses[:, 0], points_lisses[:, 1], 'g-', lw=3)\n",
    "plt.title(\"Dugong\")\n",
    "plt.xlabel(\"Age\")\n",
    "plt.ylabel(\"Longueur\")\n",
    "plt.show()"
   ]
  },
  {
   "cell_type": "markdown",
   "metadata": {},
   "source": [
    "## Fonctions Utilitaires pour le code"
   ]
  },
  {
   "cell_type": "code",
   "execution_count": 6,
   "metadata": {},
   "outputs": [],
   "source": [
    "def logit(x):\n",
    "    return np.log(x / (1 - x))\n",
    "\n",
    "def inv_logit(x):\n",
    "    return 1 / (1 + np.exp(-x))"
   ]
  },
  {
   "cell_type": "code",
   "execution_count": 7,
   "metadata": {},
   "outputs": [],
   "source": [
    "def gibbs_sampling(age, Y, nchain=10**4, prop_sd=np.array([0.01, 0.1, 1, 0.01])):\n",
    "    init = np.array([2, 1, 11, 0.9])\n",
    "    chain = np.empty((nchain + 1, 4))\n",
    "    chain[0, :] = init\n",
    "    n = len(Y)\n",
    "    sig = 1000\n",
    "\n",
    "    for iter in range(nchain):\n",
    "        current = chain[iter, :]\n",
    "\n",
    "        # Update alpha\n",
    "        prop = current.copy()\n",
    "        prop[0] = np.random.lognormal(np.log(current[0]), prop_sd[0])\n",
    "        kernel_ratio = prop[0] / current[0]\n",
    "\n",
    "        top = np.sum(norm.logpdf(Y, prop[0] - current[1] * current[3] ** age, 1 / np.sqrt(current[2]))) + \\\n",
    "            norm.logpdf(prop[0], 0, sig)\n",
    "        bottom = np.sum(norm.logpdf(Y, current[0] - current[1] * current[3] ** age, 1 / np.sqrt(current[2]))) + \\\n",
    "            norm.logpdf(current[0], 0, sig)\n",
    "\n",
    "        acc_prob = np.exp(top - bottom) * kernel_ratio\n",
    "\n",
    "        if np.random.uniform() < acc_prob:\n",
    "            current = prop.copy()\n",
    "\n",
    "        # Update beta\n",
    "        prop = current.copy()\n",
    "        prop[1] = np.random.lognormal(np.log(current[1]), prop_sd[1])\n",
    "        kernel_ratio = prop[1] / current[1]\n",
    "\n",
    "        top = np.sum(norm.logpdf(Y, current[0] - prop[1] * current[3] ** age, 1 / np.sqrt(current[2]))) + \\\n",
    "            norm.logpdf(prop[1], 0, sig)\n",
    "        bottom = np.sum(norm.logpdf(Y, current[0] - current[1] * current[3] ** age, 1 / np.sqrt(current[2]))) + \\\n",
    "            norm.logpdf(current[1], 0, sig)\n",
    "\n",
    "        acc_prob = np.exp(top - bottom) * kernel_ratio\n",
    "\n",
    "        if np.random.uniform() < acc_prob:\n",
    "            current = prop.copy()\n",
    "\n",
    "        # Update tau\n",
    "        prop = current.copy()\n",
    "        prop[2] = np.random.lognormal(np.log(current[2]), prop_sd[2])\n",
    "\n",
    "        kernel_ratio = prop[2] / current[2]\n",
    "\n",
    "        top = np.sum(norm.logpdf(Y, current[0] - current[1] * current[3] ** age, 1 / np.sqrt(prop[2]))) + \\\n",
    "            gamma.logpdf(prop[2], a=0.001, scale=1/0.001)\n",
    "        bottom = np.sum(norm.logpdf(Y, current[0] - current[1] * current[3] ** age, 1 / np.sqrt(current[2]))) + \\\n",
    "            gamma.logpdf(current[2], a=0.001, scale=1/0.001)\n",
    "\n",
    "        acc_prob = np.exp(top - bottom) * kernel_ratio\n",
    "\n",
    "        if np.random.uniform() < acc_prob:\n",
    "            current = prop.copy()\n",
    "        # Update gamma\n",
    "        prop = current.copy()\n",
    "        prop[3] = np.random.lognormal(np.log(current[3]), prop_sd[3])\n",
    "\n",
    "        kernel_ratio = prop[3] / current[3]\n",
    "        top = np.sum(norm.logpdf(Y, current[0] - current[1] * prop[3] ** age, 1 / np.sqrt(current[2]))) + \\\n",
    "            uniform.logpdf(prop[3], 0.5, 0.5)\n",
    "        bottom = np.sum(norm.logpdf(Y, current[0] - current[1] * current[3] ** age, 1 / np.sqrt(current[2]))) + \\\n",
    "            uniform.logpdf(current[3], 0.5, 0.5)\n",
    "\n",
    "        acc_prob = np.exp(top - bottom) * kernel_ratio\n",
    "\n",
    "        if np.random.uniform() < acc_prob and prop[3] < 1:\n",
    "            current = prop.copy()\n",
    "\n",
    "        # Save the new state\n",
    "        chain[iter + 1, :] = current\n",
    "\n",
    "    return chain"
   ]
  },
  {
   "cell_type": "markdown",
   "metadata": {},
   "source": [
    "## Visualization of the parameters $\\alpha , \\tau, \\gamma , \\beta $ : \n"
   ]
  },
  {
   "cell_type": "code",
   "execution_count": null,
   "metadata": {},
   "outputs": [],
   "source": [
    "import seaborn as sns\n",
    "import matplotlib.pyplot as plt\n",
    "import pandas as pd\n",
    "\n",
    "nchain = 10000\n",
    "chain = gibbs_sampling(X, Y, nchain)\n",
    "\n",
    "# Remove burning period\n",
    "burn_in = 1000\n",
    "chain = chain[burn_in:]\n",
    "\n",
    "# Set the style for the plots\n",
    "sns.set(style=\"whitegrid\")\n",
    "\n",
    "param_names = ['alpha', 'beta', 'tau', 'gamma']\n",
    "\n",
    "def plot_trace(chains, param_names):\n",
    "    n_params = len(param_names)\n",
    "    fig, axes = plt.subplots(n_params, 1, figsize=(10, 3 * n_params))\n",
    "\n",
    "    for idx, ax in enumerate(axes):\n",
    "        ax.plot(chains[:, idx], alpha=0.7)\n",
    "        ax.set_title(param_names[idx])\n",
    "\n",
    "    plt.tight_layout()\n",
    "    plt.show()\n",
    "\n",
    "def plot_histograms(chains, param_names):\n",
    "    n_params = len(param_names)+\n",
    "    fig, axes = plt.subplots(n_params, 1, figsize=(10, 3 * n_params))\n",
    "\n",
    "    for idx, ax in enumerate(axes):\n",
    "        sns.histplot(chains[:, idx], kde=True, ax=ax)\n",
    "        ax.set_title(param_names[idx])\n",
    "\n",
    "    plt.tight_layout()\n",
    "    plt.show()\n",
    "\n",
    "plot_trace(chain, param_names)\n",
    "plot_histograms(chain, param_names)\n"
   ]
  }
 ],
 "metadata": {
  "kernelspec": {
   "display_name": "base",
   "language": "python",
   "name": "python3"
  },
  "language_info": {
   "codemirror_mode": {
    "name": "ipython",
    "version": 3
   },
   "file_extension": ".py",
   "mimetype": "text/x-python",
   "name": "python",
   "nbconvert_exporter": "python",
   "pygments_lexer": "ipython3",
   "version": "3.11.5"
  }
 },
 "nbformat": 4,
 "nbformat_minor": 2
}
